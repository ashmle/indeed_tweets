{
 "cells": [
  {
   "cell_type": "code",
   "execution_count": 1,
   "metadata": {
    "collapsed": false
   },
   "outputs": [],
   "source": [
    "import pandas as pd\n",
    "from bokeh.io import show, output_file#, output_notebook\n",
    "from bokeh.plotting import figure\n",
    "from bokeh.models import ColumnDataSource, HoverTool, Title\n",
    "from bokeh.models.widgets import Div\n",
    "from bokeh.palettes import viridis\n",
    "from bokeh.layouts import widgetbox, column\n",
    "import datetime as dt"
   ]
  },
  {
   "cell_type": "code",
   "execution_count": 2,
   "metadata": {
    "collapsed": false
   },
   "outputs": [],
   "source": [
    "column_names =['user','text','favorite_count','time','retweet_count','hashtags']\n",
    "column_dtypes = {'user': 'str','text': 'str', 'favorite_count': 'int', 'time':'str', 'retweet_count': 'int', 'hashtags': 'str'}"
   ]
  },
  {
   "cell_type": "code",
   "execution_count": 3,
   "metadata": {
    "collapsed": false
   },
   "outputs": [
    {
     "data": {
      "text/html": [
       "<div>\n",
       "<table border=\"1\" class=\"dataframe\">\n",
       "  <thead>\n",
       "    <tr style=\"text-align: right;\">\n",
       "      <th></th>\n",
       "      <th>user</th>\n",
       "      <th>text</th>\n",
       "      <th>favorite_count</th>\n",
       "      <th>time</th>\n",
       "      <th>retweet_count</th>\n",
       "      <th>hashtags</th>\n",
       "    </tr>\n",
       "  </thead>\n",
       "  <tbody>\n",
       "    <tr>\n",
       "      <th>0</th>\n",
       "      <td>indeed</td>\n",
       "      <td>5 questions to ask yourself before a job inter...</td>\n",
       "      <td>15</td>\n",
       "      <td>2017-05-29 15:30:55</td>\n",
       "      <td>8</td>\n",
       "      <td>jobsearch, indeed</td>\n",
       "    </tr>\n",
       "    <tr>\n",
       "      <th>1</th>\n",
       "      <td>indeed</td>\n",
       "      <td>Small businesses are increasingly attracting j...</td>\n",
       "      <td>5</td>\n",
       "      <td>2017-05-25 18:38:33</td>\n",
       "      <td>5</td>\n",
       "      <td>smb, jobs</td>\n",
       "    </tr>\n",
       "    <tr>\n",
       "      <th>2</th>\n",
       "      <td>indeed</td>\n",
       "      <td>Become a #networking expert in 7 easy steps #J...</td>\n",
       "      <td>9</td>\n",
       "      <td>2017-05-25 14:30:52</td>\n",
       "      <td>7</td>\n",
       "      <td>networking, jobsearch, indeed</td>\n",
       "    </tr>\n",
       "    <tr>\n",
       "      <th>3</th>\n",
       "      <td>indeed</td>\n",
       "      <td>We take an in-depth look at #HR careers - what...</td>\n",
       "      <td>10</td>\n",
       "      <td>2017-05-25 14:27:02</td>\n",
       "      <td>5</td>\n",
       "      <td>hr</td>\n",
       "    </tr>\n",
       "    <tr>\n",
       "      <th>4</th>\n",
       "      <td>indeed</td>\n",
       "      <td>RT @indeed: As the sun sets on #indeedinteract...</td>\n",
       "      <td>0</td>\n",
       "      <td>2017-05-23 09:17:10</td>\n",
       "      <td>15</td>\n",
       "      <td>indeedinteractive</td>\n",
       "    </tr>\n",
       "  </tbody>\n",
       "</table>\n",
       "</div>"
      ],
      "text/plain": [
       "     user                                               text  favorite_count  \\\n",
       "0  indeed  5 questions to ask yourself before a job inter...              15   \n",
       "1  indeed  Small businesses are increasingly attracting j...               5   \n",
       "2  indeed  Become a #networking expert in 7 easy steps #J...               9   \n",
       "3  indeed  We take an in-depth look at #HR careers - what...              10   \n",
       "4  indeed  RT @indeed: As the sun sets on #indeedinteract...               0   \n",
       "\n",
       "                 time  retweet_count                       hashtags  \n",
       "0 2017-05-29 15:30:55              8              jobsearch, indeed  \n",
       "1 2017-05-25 18:38:33              5                      smb, jobs  \n",
       "2 2017-05-25 14:30:52              7  networking, jobsearch, indeed  \n",
       "3 2017-05-25 14:27:02              5                             hr  \n",
       "4 2017-05-23 09:17:10             15              indeedinteractive  "
      ]
     },
     "execution_count": 3,
     "metadata": {},
     "output_type": "execute_result"
    }
   ],
   "source": [
    "df = pd.read_csv('data/indeed_tweets.txt', sep=\"|\", parse_dates=['time'], infer_datetime_format= True, index_col = False, names= column_names, dtype=column_dtypes)\n",
    "df.head()"
   ]
  },
  {
   "cell_type": "code",
   "execution_count": 4,
   "metadata": {
    "collapsed": false
   },
   "outputs": [],
   "source": [
    "def convert_time(timing):\n",
    "    return timing.strftime(\"%m/%d/%y %I:%m %p\")"
   ]
  },
  {
   "cell_type": "code",
   "execution_count": 5,
   "metadata": {
    "collapsed": false
   },
   "outputs": [
    {
     "data": {
      "text/plain": [
       "Timestamp('2009-08-04 17:17:59')"
      ]
     },
     "execution_count": 5,
     "metadata": {},
     "output_type": "execute_result"
    }
   ],
   "source": [
    "minDate = df['time'].min()\n",
    "minDate"
   ]
  },
  {
   "cell_type": "code",
   "execution_count": 6,
   "metadata": {
    "collapsed": false
   },
   "outputs": [
    {
     "data": {
      "text/plain": [
       "Timestamp('2017-05-30 21:58:54')"
      ]
     },
     "execution_count": 6,
     "metadata": {},
     "output_type": "execute_result"
    }
   ],
   "source": [
    "maxDate= df['time'].max()\n",
    "maxDate"
   ]
  },
  {
   "cell_type": "code",
   "execution_count": 7,
   "metadata": {
    "collapsed": false
   },
   "outputs": [],
   "source": [
    "df['display_time'] = df['time'].apply(convert_time)"
   ]
  },
  {
   "cell_type": "code",
   "execution_count": 8,
   "metadata": {
    "collapsed": false
   },
   "outputs": [
    {
     "data": {
      "text/plain": [
       "user                      object\n",
       "text                      object\n",
       "favorite_count             int64\n",
       "time              datetime64[ns]\n",
       "retweet_count              int64\n",
       "hashtags                  object\n",
       "display_time              object\n",
       "dtype: object"
      ]
     },
     "execution_count": 8,
     "metadata": {},
     "output_type": "execute_result"
    }
   ],
   "source": [
    "df.dtypes"
   ]
  },
  {
   "cell_type": "code",
   "execution_count": 9,
   "metadata": {
    "collapsed": false
   },
   "outputs": [
    {
     "data": {
      "text/html": [
       "<div>\n",
       "<table border=\"1\" class=\"dataframe\">\n",
       "  <thead>\n",
       "    <tr style=\"text-align: right;\">\n",
       "      <th></th>\n",
       "      <th>favorite_count</th>\n",
       "      <th>retweet_count</th>\n",
       "    </tr>\n",
       "  </thead>\n",
       "  <tbody>\n",
       "    <tr>\n",
       "      <th>count</th>\n",
       "      <td>14421.000000</td>\n",
       "      <td>14421.000000</td>\n",
       "    </tr>\n",
       "    <tr>\n",
       "      <th>mean</th>\n",
       "      <td>6.350392</td>\n",
       "      <td>4.665904</td>\n",
       "    </tr>\n",
       "    <tr>\n",
       "      <th>std</th>\n",
       "      <td>47.976843</td>\n",
       "      <td>28.113903</td>\n",
       "    </tr>\n",
       "    <tr>\n",
       "      <th>min</th>\n",
       "      <td>0.000000</td>\n",
       "      <td>0.000000</td>\n",
       "    </tr>\n",
       "    <tr>\n",
       "      <th>25%</th>\n",
       "      <td>0.000000</td>\n",
       "      <td>0.000000</td>\n",
       "    </tr>\n",
       "    <tr>\n",
       "      <th>50%</th>\n",
       "      <td>0.000000</td>\n",
       "      <td>0.000000</td>\n",
       "    </tr>\n",
       "    <tr>\n",
       "      <th>75%</th>\n",
       "      <td>1.000000</td>\n",
       "      <td>2.000000</td>\n",
       "    </tr>\n",
       "    <tr>\n",
       "      <th>max</th>\n",
       "      <td>3503.000000</td>\n",
       "      <td>2151.000000</td>\n",
       "    </tr>\n",
       "  </tbody>\n",
       "</table>\n",
       "</div>"
      ],
      "text/plain": [
       "       favorite_count  retweet_count\n",
       "count    14421.000000   14421.000000\n",
       "mean         6.350392       4.665904\n",
       "std         47.976843      28.113903\n",
       "min          0.000000       0.000000\n",
       "25%          0.000000       0.000000\n",
       "50%          0.000000       0.000000\n",
       "75%          1.000000       2.000000\n",
       "max       3503.000000    2151.000000"
      ]
     },
     "execution_count": 9,
     "metadata": {},
     "output_type": "execute_result"
    }
   ],
   "source": [
    "df.describe()"
   ]
  },
  {
   "cell_type": "code",
   "execution_count": 10,
   "metadata": {
    "collapsed": false
   },
   "outputs": [
    {
     "data": {
      "text/plain": [
       "array(['indeed', 'IndeedCanada', 'IndeedAU', 'IndeedNZ', 'IndeedJapan',\n",
       "       'IndeedUK', 'IndeedIE', 'Indeedfrancais', 'IndeedNL',\n",
       "       'IndeedEspana', 'IndeedSverige', 'IndeedPolska', 'IndeedItalia',\n",
       "       'IndeedDeutsch', 'IndeedKorea', 'Indeed_India'], dtype=object)"
      ]
     },
     "execution_count": 10,
     "metadata": {},
     "output_type": "execute_result"
    }
   ],
   "source": [
    "users = df['user'].unique()\n",
    "users"
   ]
  },
  {
   "cell_type": "code",
   "execution_count": 11,
   "metadata": {
    "collapsed": true
   },
   "outputs": [],
   "source": [
    "output_file('indeed_tweets_visual.html', title=\"Indeed World Tweets\",mode=\"cdn\")"
   ]
  },
  {
   "cell_type": "code",
   "execution_count": 12,
   "metadata": {
    "collapsed": false
   },
   "outputs": [],
   "source": [
    "#DEV\n",
    "#output_notebook()"
   ]
  },
  {
   "cell_type": "code",
   "execution_count": 13,
   "metadata": {
    "collapsed": false
   },
   "outputs": [],
   "source": [
    "#hover = HoverTool(tooltips=[(\"User\", \"@user\"),(\"Summary\", \"@summary...\"),(\"Time\", \"@display_time\"),(\"# of favorites\", \"@favorite_count\")])"
   ]
  },
  {
   "cell_type": "code",
   "execution_count": 14,
   "metadata": {
    "collapsed": false
   },
   "outputs": [],
   "source": [
    "hover = HoverTool(tooltips=\n",
    "                 \"\"\"<div style=\"width: 450px\"><p style=\"padding: 5px\"><b>@user</b><br>\"@text\"<br><b><i>@display_time</i></b><br><font color='1da1f2'><b>@favorite_count</b> favorite count</font></div>\"\"\")"
   ]
  },
  {
   "cell_type": "code",
   "execution_count": 15,
   "metadata": {
    "collapsed": false
   },
   "outputs": [],
   "source": [
    "colors = viridis(16)"
   ]
  },
  {
   "cell_type": "code",
   "execution_count": 16,
   "metadata": {
    "collapsed": false
   },
   "outputs": [],
   "source": [
    "p = figure(plot_width = 1200, plot_height = 600, x_axis_type='datetime', tools=[hover,'pan','box_zoom','wheel_zoom','reset'], webgl=True, title=\"Tweets from Indeed around the World\", logo=None, toolbar_location=\"above\")\n",
    "#y_range(0,1500)"
   ]
  },
  {
   "cell_type": "code",
   "execution_count": 17,
   "metadata": {
    "collapsed": false
   },
   "outputs": [],
   "source": [
    "for i, user in enumerate(users):\n",
    "    data = ColumnDataSource(df[df['user'] == user][['favorite_count','time','user','text','display_time']])\n",
    "    p.line('time', 'favorite_count', color=colors[i], legend=user, line_width=2, source=data)\n",
    "    #p.circle(x,y, color=colors[i], selection_color=\"red\", nonselection_fill_alpha=0.2, nonselection_fill_color=colors[i], nonselection_line_color=\"red\", nonselection_line_alpha=1.0)"
   ]
  },
  {
   "cell_type": "code",
   "execution_count": 18,
   "metadata": {
    "collapsed": false
   },
   "outputs": [],
   "source": [
    "p.legend.location='top_left'\n",
    "p.legend.click_policy=\"hide\"\n",
    "p.title.text_font_size = \"25px\"\n",
    "#p.add_layout(Title(text=\"*Click on legend to display/remove Indeed Users\", align=\"left\"), \"below\")\n",
    "p.xaxis.axis_label=\"Date\"\n",
    "p.yaxis.axis_label=\"# of favorites\""
   ]
  },
  {
   "cell_type": "code",
   "execution_count": 19,
   "metadata": {
    "collapsed": true
   },
   "outputs": [],
   "source": [
    "#slider =DateRangeSlider(bounds=(minDate,maxDate))\n",
    "#show(widgetbox(slider))"
   ]
  },
  {
   "cell_type": "code",
   "execution_count": 20,
   "metadata": {
    "collapsed": true
   },
   "outputs": [],
   "source": [
    "div = Div(text=\n",
    "          \"\"\"<ul>\n",
    "                  <li>Click on legend to <b><i>display/hide users</b></i>.</li>\n",
    "                  <li>You may <b><i>Pan, Zoom (Box or Wheel), Hover, and Reset</b></i> the graph.</li>\n",
    "            </ul>\n",
    "            <br><br>\n",
    "            <hr></hr>\n",
    "            <p style=\"text-align: right\">Visualization created using a data pipeline (twitter API + python + html, css, javascript). Find most of the source code here: <a href='https://github.com/ashmle/indeed_tweets' target='_blank'>Andres Mack Github</a>\n",
    "            <br>Go back to my personal website <a href='http://andresmack.com'>here</a></p>\"\"\",\n",
    "width=1200, height=200)"
   ]
  },
  {
   "cell_type": "code",
   "execution_count": 21,
   "metadata": {
    "collapsed": false
   },
   "outputs": [],
   "source": [
    "layout = column(p, div)"
   ]
  },
  {
   "cell_type": "code",
   "execution_count": 22,
   "metadata": {
    "collapsed": false
   },
   "outputs": [],
   "source": [
    "show(layout)"
   ]
  },
  {
   "cell_type": "code",
   "execution_count": null,
   "metadata": {
    "collapsed": true
   },
   "outputs": [],
   "source": []
  }
 ],
 "metadata": {
  "kernelspec": {
   "display_name": "Python 3",
   "language": "python",
   "name": "python3"
  },
  "language_info": {
   "codemirror_mode": {
    "name": "ipython",
    "version": 3
   },
   "file_extension": ".py",
   "mimetype": "text/x-python",
   "name": "python",
   "nbconvert_exporter": "python",
   "pygments_lexer": "ipython3",
   "version": "3.5.3"
  }
 },
 "nbformat": 4,
 "nbformat_minor": 1
}
