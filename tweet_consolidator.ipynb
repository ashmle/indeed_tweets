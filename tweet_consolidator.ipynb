{
 "cells": [
  {
   "cell_type": "code",
   "execution_count": 1,
   "metadata": {
    "collapsed": true
   },
   "outputs": [],
   "source": [
    "import sys\n",
    "import json"
   ]
  },
  {
   "cell_type": "code",
   "execution_count": 2,
   "metadata": {
    "collapsed": true
   },
   "outputs": [],
   "source": [
    "def get_hashtags(tweet):\n",
    "    entities = tweet.get('entities',{})\n",
    "    hashtags = entities.get('hashtags',[])\n",
    "    return [tag['text'].lower() for tag in hashtags]"
   ]
  },
  {
   "cell_type": "code",
   "execution_count": 13,
   "metadata": {
    "collapsed": true
   },
   "outputs": [],
   "source": [
    "def get_fields(tweet):\n",
    "    text = tweet.get('text').replace('\\n',' ').replace('\\t',' ')\n",
    "    favorite_count = tweet.get('favorite_count', 0)\n",
    "    time = tweet.get('created_at')\n",
    "    retweet_count = tweet.get('retweet_count', 0)\n",
    "    hashtags = ', '.join(get_hashtags(tweet))\n",
    "    return ['\"'+text+'\"', str(favorite_count), str(time), str(retweet_count),'\"'+hashtags+'\"']"
   ]
  },
  {
   "cell_type": "code",
   "execution_count": 14,
   "metadata": {
    "collapsed": true
   },
   "outputs": [],
   "source": [
    "users = [\"indeed\", \"IndeedCanada\", \"IndeedAU\", \"IndeedNZ\", \"IndeedJapan\", \"IndeedUK\", \"IndeedIE\", \"Indeedfrancais\", \"IndeedNL\", \"IndeedEspana\", \"IndeedSverige\", \"IndeedPolska\", \"IndeedItalia\", \"IndeedDeutsch\", \"IndeedKorea\", \"Indeed_India\"]"
   ]
  },
  {
   "cell_type": "code",
   "execution_count": 15,
   "metadata": {
    "collapsed": true
   },
   "outputs": [],
   "source": [
    "users = [\"indeed\"]"
   ]
  },
  {
   "cell_type": "code",
   "execution_count": 16,
   "metadata": {
    "collapsed": false
   },
   "outputs": [],
   "source": [
    "if __name__ == '__main__':\n",
    "    for i, user in enumerate(users):\n",
    "        if i == 0:\n",
    "            mode='w'\n",
    "        else:\n",
    "            mode='a'\n",
    "        with open('data/user_timeline_{}.jsonl'.format(user), 'r') as f, open('data/indeed_tweets.txt', mode) as o:    \n",
    "            for line in f:\n",
    "                tweet = json.loads(line)\n",
    "                fields = get_fields(tweet)\n",
    "                o.write(user+\"|\"+'|'.join(fields)+'\\n')"
   ]
  },
  {
   "cell_type": "code",
   "execution_count": null,
   "metadata": {
    "collapsed": true
   },
   "outputs": [],
   "source": []
  }
 ],
 "metadata": {
  "kernelspec": {
   "display_name": "Python 3",
   "language": "python",
   "name": "python3"
  },
  "language_info": {
   "codemirror_mode": {
    "name": "ipython",
    "version": 3
   },
   "file_extension": ".py",
   "mimetype": "text/x-python",
   "name": "python",
   "nbconvert_exporter": "python",
   "pygments_lexer": "ipython3",
   "version": "3.5.3"
  }
 },
 "nbformat": 4,
 "nbformat_minor": 1
}
